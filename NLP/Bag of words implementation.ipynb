{
 "cells": [
  {
   "cell_type": "code",
   "execution_count": 28,
   "id": "c554d9fb",
   "metadata": {},
   "outputs": [],
   "source": [
    "import spacy\n",
    "import numpy as np\n",
    "from sklearn.feature_extraction.text import CountVectorizer\n",
    "from sklearn.metrics.pairwise import cosine_similarity"
   ]
  },
  {
   "cell_type": "code",
   "execution_count": 29,
   "id": "e90f2b80",
   "metadata": {},
   "outputs": [
    {
     "ename": "SyntaxError",
     "evalue": "invalid syntax (3408842130.py, line 6)",
     "output_type": "error",
     "traceback": [
      "\u001b[1;36m  Cell \u001b[1;32mIn[29], line 6\u001b[1;36m\u001b[0m\n\u001b[1;33m    \"World population exceeds 8 billion.\",\u001b[0m\n\u001b[1;37m    ^\u001b[0m\n\u001b[1;31mSyntaxError\u001b[0m\u001b[1;31m:\u001b[0m invalid syntax\n"
     ]
    }
   ],
   "source": [
    "# Now we define a corpus, basically a collection of sentences \n",
    "\n",
    "corpus = [\n",
    "    \"Inflation surges around the world.\",\n",
    "    \"The Omicron coronavirus variant spreads.\",x\n",
    "    \"World population exceeds 8 billion.\",\n",
    "    \"AI predicts protein structures.\"\n",
    "]"
   ]
  },
  {
   "cell_type": "code",
   "execution_count": 30,
   "id": "aa43f570-60d5-4e47-949d-2a42fa3c3d84",
   "metadata": {},
   "outputs": [],
   "source": [
    "vectorizer = CountVectorizer()"
   ]
  },
  {
   "cell_type": "code",
   "execution_count": 31,
   "id": "c281e9bc-8d6f-4bc8-9e95-e8592111f52e",
   "metadata": {},
   "outputs": [],
   "source": [
    "# The \".fit_transform\" learn the vocabulary from the corpus and generates a bag of words\n",
    "bow = vectorizer.fit_transform(corpus)"
   ]
  },
  {
   "cell_type": "code",
   "execution_count": 32,
   "id": "27d75fb3-a2c1-489f-996f-977b4271a957",
   "metadata": {},
   "outputs": [
    {
     "data": {
      "text/plain": [
       "{'inflation': 5,\n",
       " 'surges': 12,\n",
       " 'around': 1,\n",
       " 'the': 13,\n",
       " 'world': 15,\n",
       " 'omicron': 6,\n",
       " 'coronavirus': 3,\n",
       " 'variant': 14,\n",
       " 'spreads': 10,\n",
       " 'population': 7,\n",
       " 'exceeds': 4,\n",
       " 'billion': 2,\n",
       " 'ai': 0,\n",
       " 'predicts': 8,\n",
       " 'protein': 9,\n",
       " 'structures': 11}"
      ]
     },
     "execution_count": 32,
     "metadata": {},
     "output_type": "execute_result"
    }
   ],
   "source": [
    "vectorizer.vocabulary_"
   ]
  },
  {
   "cell_type": "code",
   "execution_count": 33,
   "id": "254ab201-a0be-4243-9783-b3926042814f",
   "metadata": {},
   "outputs": [
    {
     "data": {
      "text/plain": [
       "<4x16 sparse matrix of type '<class 'numpy.int64'>'\n",
       "\twith 18 stored elements in Compressed Sparse Row format>"
      ]
     },
     "execution_count": 33,
     "metadata": {},
     "output_type": "execute_result"
    }
   ],
   "source": [
    "bow"
   ]
  },
  {
   "cell_type": "code",
   "execution_count": 34,
   "id": "bcd9f686-92b3-4b8f-9a8b-c6dafb6fff1d",
   "metadata": {},
   "outputs": [
    {
     "name": "stdout",
     "output_type": "stream",
     "text": [
      "  (0, 5)\t1\n",
      "  (0, 12)\t1\n",
      "  (0, 1)\t1\n",
      "  (0, 13)\t1\n",
      "  (0, 15)\t1\n",
      "  (1, 13)\t1\n",
      "  (1, 6)\t1\n",
      "  (1, 3)\t1\n",
      "  (1, 14)\t1\n",
      "  (1, 10)\t1\n",
      "  (2, 15)\t1\n",
      "  (2, 7)\t1\n",
      "  (2, 4)\t1\n",
      "  (2, 2)\t1\n",
      "  (3, 0)\t1\n",
      "  (3, 8)\t1\n",
      "  (3, 9)\t1\n",
      "  (3, 11)\t1\n"
     ]
    }
   ],
   "source": [
    "print(bow)"
   ]
  },
  {
   "cell_type": "code",
   "execution_count": 35,
   "id": "96b1c982-1c55-4d15-ab2e-b23ebb45bd3b",
   "metadata": {},
   "outputs": [
    {
     "data": {
      "text/plain": [
       "array([[0, 1, 0, 0, 0, 1, 0, 0, 0, 0, 0, 0, 1, 1, 0, 1],\n",
       "       [0, 0, 0, 1, 0, 0, 1, 0, 0, 0, 1, 0, 0, 1, 1, 0],\n",
       "       [0, 0, 1, 0, 1, 0, 0, 1, 0, 0, 0, 0, 0, 0, 0, 1],\n",
       "       [1, 0, 0, 0, 0, 0, 0, 0, 1, 1, 0, 1, 0, 0, 0, 0]], dtype=int64)"
      ]
     },
     "execution_count": 35,
     "metadata": {},
     "output_type": "execute_result"
    }
   ],
   "source": [
    "bow.toarray()"
   ]
  },
  {
   "cell_type": "code",
   "execution_count": 36,
   "id": "b8fa0347-66ce-4746-9435-cdce9ed81e96",
   "metadata": {},
   "outputs": [
    {
     "name": "stdout",
     "output_type": "stream",
     "text": [
      "Collecting en-core-web-sm==3.7.1\n",
      "  Downloading https://github.com/explosion/spacy-models/releases/download/en_core_web_sm-3.7.1/en_core_web_sm-3.7.1-py3-none-any.whl (12.8 MB)\n",
      "     ---------------------------------------- 0.0/12.8 MB ? eta -:--:--\n",
      "     --------------------------------------- 0.0/12.8 MB 660.6 kB/s eta 0:00:20\n",
      "     --------------------------------------- 0.0/12.8 MB 660.6 kB/s eta 0:00:20\n",
      "     --------------------------------------- 0.0/12.8 MB 326.8 kB/s eta 0:00:40\n",
      "     --------------------------------------- 0.1/12.8 MB 476.3 kB/s eta 0:00:27\n",
      "     --------------------------------------- 0.2/12.8 MB 701.4 kB/s eta 0:00:19\n",
      "      -------------------------------------- 0.2/12.8 MB 885.4 kB/s eta 0:00:15\n",
      "     - -------------------------------------- 0.5/12.8 MB 1.4 MB/s eta 0:00:09\n",
      "     - -------------------------------------- 0.6/12.8 MB 1.6 MB/s eta 0:00:08\n",
      "     --- ------------------------------------ 1.0/12.8 MB 2.5 MB/s eta 0:00:05\n",
      "     ---- ----------------------------------- 1.4/12.8 MB 3.0 MB/s eta 0:00:04\n",
      "     ------ --------------------------------- 2.1/12.8 MB 4.1 MB/s eta 0:00:03\n",
      "     ------- -------------------------------- 2.5/12.8 MB 4.6 MB/s eta 0:00:03\n",
      "     ----------- ---------------------------- 3.7/12.8 MB 6.4 MB/s eta 0:00:02\n",
      "     ------------ --------------------------- 4.0/12.8 MB 6.4 MB/s eta 0:00:02\n",
      "     --------------- ------------------------ 5.0/12.8 MB 7.6 MB/s eta 0:00:02\n",
      "     ------------------ --------------------- 5.8/12.8 MB 8.1 MB/s eta 0:00:01\n",
      "     -------------------- ------------------- 6.6/12.8 MB 8.5 MB/s eta 0:00:01\n",
      "     ---------------------- ----------------- 7.3/12.8 MB 9.4 MB/s eta 0:00:01\n",
      "     ---------------------- ----------------- 7.3/12.8 MB 9.4 MB/s eta 0:00:01\n",
      "     ----------------------- ---------------- 7.6/12.8 MB 8.6 MB/s eta 0:00:01\n",
      "     -------------------------- ------------- 8.6/12.8 MB 9.4 MB/s eta 0:00:01\n",
      "     ------------------------------ --------- 9.8/12.8 MB 10.1 MB/s eta 0:00:01\n",
      "     ------------------------------ --------- 9.8/12.8 MB 10.1 MB/s eta 0:00:01\n",
      "     --------------------------------- ----- 11.0/12.8 MB 14.6 MB/s eta 0:00:01\n",
      "     ---------------------------------- ---- 11.4/12.8 MB 15.6 MB/s eta 0:00:01\n",
      "     ------------------------------------ -- 12.0/12.8 MB 14.9 MB/s eta 0:00:01\n",
      "     ------------------------------------- - 12.4/12.8 MB 15.2 MB/s eta 0:00:01\n",
      "     --------------------------------------  12.8/12.8 MB 14.6 MB/s eta 0:00:01\n",
      "     --------------------------------------  12.8/12.8 MB 14.6 MB/s eta 0:00:01\n",
      "     --------------------------------------- 12.8/12.8 MB 13.6 MB/s eta 0:00:00\n",
      "Requirement already satisfied: spacy<3.8.0,>=3.7.2 in e:\\anaconda\\envs\\works\\lib\\site-packages (from en-core-web-sm==3.7.1) (3.7.6)\n",
      "Requirement already satisfied: spacy-legacy<3.1.0,>=3.0.11 in e:\\anaconda\\envs\\works\\lib\\site-packages (from spacy<3.8.0,>=3.7.2->en-core-web-sm==3.7.1) (3.0.12)\n",
      "Requirement already satisfied: spacy-loggers<2.0.0,>=1.0.0 in e:\\anaconda\\envs\\works\\lib\\site-packages (from spacy<3.8.0,>=3.7.2->en-core-web-sm==3.7.1) (1.0.5)\n",
      "Requirement already satisfied: murmurhash<1.1.0,>=0.28.0 in e:\\anaconda\\envs\\works\\lib\\site-packages (from spacy<3.8.0,>=3.7.2->en-core-web-sm==3.7.1) (1.0.10)\n",
      "Requirement already satisfied: cymem<2.1.0,>=2.0.2 in e:\\anaconda\\envs\\works\\lib\\site-packages (from spacy<3.8.0,>=3.7.2->en-core-web-sm==3.7.1) (2.0.8)\n",
      "Requirement already satisfied: preshed<3.1.0,>=3.0.2 in e:\\anaconda\\envs\\works\\lib\\site-packages (from spacy<3.8.0,>=3.7.2->en-core-web-sm==3.7.1) (3.0.9)\n",
      "Requirement already satisfied: thinc<8.3.0,>=8.2.2 in e:\\anaconda\\envs\\works\\lib\\site-packages (from spacy<3.8.0,>=3.7.2->en-core-web-sm==3.7.1) (8.2.5)\n",
      "Requirement already satisfied: wasabi<1.2.0,>=0.9.1 in e:\\anaconda\\envs\\works\\lib\\site-packages (from spacy<3.8.0,>=3.7.2->en-core-web-sm==3.7.1) (1.1.3)\n",
      "Requirement already satisfied: srsly<3.0.0,>=2.4.3 in e:\\anaconda\\envs\\works\\lib\\site-packages (from spacy<3.8.0,>=3.7.2->en-core-web-sm==3.7.1) (2.4.8)\n",
      "Requirement already satisfied: catalogue<2.1.0,>=2.0.6 in e:\\anaconda\\envs\\works\\lib\\site-packages (from spacy<3.8.0,>=3.7.2->en-core-web-sm==3.7.1) (2.0.10)\n",
      "Requirement already satisfied: weasel<0.5.0,>=0.1.0 in e:\\anaconda\\envs\\works\\lib\\site-packages (from spacy<3.8.0,>=3.7.2->en-core-web-sm==3.7.1) (0.4.1)\n",
      "Requirement already satisfied: typer<1.0.0,>=0.3.0 in c:\\users\\user\\appdata\\roaming\\python\\python311\\site-packages (from spacy<3.8.0,>=3.7.2->en-core-web-sm==3.7.1) (0.12.0)\n",
      "Requirement already satisfied: tqdm<5.0.0,>=4.38.0 in e:\\anaconda\\envs\\works\\lib\\site-packages (from spacy<3.8.0,>=3.7.2->en-core-web-sm==3.7.1) (4.66.4)\n",
      "Requirement already satisfied: requests<3.0.0,>=2.13.0 in e:\\anaconda\\envs\\works\\lib\\site-packages (from spacy<3.8.0,>=3.7.2->en-core-web-sm==3.7.1) (2.31.0)\n",
      "Requirement already satisfied: pydantic!=1.8,!=1.8.1,<3.0.0,>=1.7.4 in c:\\users\\user\\appdata\\roaming\\python\\python311\\site-packages (from spacy<3.8.0,>=3.7.2->en-core-web-sm==3.7.1) (1.10.14)\n",
      "Requirement already satisfied: jinja2 in e:\\anaconda\\envs\\works\\lib\\site-packages (from spacy<3.8.0,>=3.7.2->en-core-web-sm==3.7.1) (3.1.3)\n",
      "Requirement already satisfied: setuptools in c:\\users\\user\\appdata\\roaming\\python\\python311\\site-packages (from spacy<3.8.0,>=3.7.2->en-core-web-sm==3.7.1) (69.2.0)\n",
      "Requirement already satisfied: packaging>=20.0 in e:\\anaconda\\envs\\works\\lib\\site-packages (from spacy<3.8.0,>=3.7.2->en-core-web-sm==3.7.1) (23.2)\n",
      "Requirement already satisfied: langcodes<4.0.0,>=3.2.0 in e:\\anaconda\\envs\\works\\lib\\site-packages (from spacy<3.8.0,>=3.7.2->en-core-web-sm==3.7.1) (3.4.0)\n",
      "Requirement already satisfied: numpy>=1.19.0 in e:\\anaconda\\envs\\works\\lib\\site-packages (from spacy<3.8.0,>=3.7.2->en-core-web-sm==3.7.1) (1.26.3)\n",
      "Requirement already satisfied: language-data>=1.2 in e:\\anaconda\\envs\\works\\lib\\site-packages (from langcodes<4.0.0,>=3.2.0->spacy<3.8.0,>=3.7.2->en-core-web-sm==3.7.1) (1.2.0)\n",
      "Requirement already satisfied: typing-extensions>=4.2.0 in e:\\anaconda\\envs\\works\\lib\\site-packages (from pydantic!=1.8,!=1.8.1,<3.0.0,>=1.7.4->spacy<3.8.0,>=3.7.2->en-core-web-sm==3.7.1) (4.9.0)\n",
      "Requirement already satisfied: charset-normalizer<4,>=2 in e:\\anaconda\\envs\\works\\lib\\site-packages (from requests<3.0.0,>=2.13.0->spacy<3.8.0,>=3.7.2->en-core-web-sm==3.7.1) (3.3.2)\n",
      "Requirement already satisfied: idna<4,>=2.5 in e:\\anaconda\\envs\\works\\lib\\site-packages (from requests<3.0.0,>=2.13.0->spacy<3.8.0,>=3.7.2->en-core-web-sm==3.7.1) (3.6)\n",
      "Requirement already satisfied: urllib3<3,>=1.21.1 in e:\\anaconda\\envs\\works\\lib\\site-packages (from requests<3.0.0,>=2.13.0->spacy<3.8.0,>=3.7.2->en-core-web-sm==3.7.1) (2.2.0)\n",
      "Requirement already satisfied: certifi>=2017.4.17 in e:\\anaconda\\envs\\works\\lib\\site-packages (from requests<3.0.0,>=2.13.0->spacy<3.8.0,>=3.7.2->en-core-web-sm==3.7.1) (2024.2.2)\n",
      "Requirement already satisfied: blis<0.8.0,>=0.7.8 in e:\\anaconda\\envs\\works\\lib\\site-packages (from thinc<8.3.0,>=8.2.2->spacy<3.8.0,>=3.7.2->en-core-web-sm==3.7.1) (0.7.11)\n",
      "Requirement already satisfied: confection<1.0.0,>=0.0.1 in e:\\anaconda\\envs\\works\\lib\\site-packages (from thinc<8.3.0,>=8.2.2->spacy<3.8.0,>=3.7.2->en-core-web-sm==3.7.1) (0.1.5)\n",
      "Requirement already satisfied: colorama in e:\\anaconda\\envs\\works\\lib\\site-packages (from tqdm<5.0.0,>=4.38.0->spacy<3.8.0,>=3.7.2->en-core-web-sm==3.7.1) (0.4.6)\n",
      "Requirement already satisfied: typer-slim==0.12.0 in c:\\users\\user\\appdata\\roaming\\python\\python311\\site-packages (from typer-slim[standard]==0.12.0->typer<1.0.0,>=0.3.0->spacy<3.8.0,>=3.7.2->en-core-web-sm==3.7.1) (0.12.0)\n",
      "Requirement already satisfied: typer-cli==0.12.0 in c:\\users\\user\\appdata\\roaming\\python\\python311\\site-packages (from typer<1.0.0,>=0.3.0->spacy<3.8.0,>=3.7.2->en-core-web-sm==3.7.1) (0.12.0)\n",
      "Requirement already satisfied: click>=8.0.0 in c:\\users\\user\\appdata\\roaming\\python\\python311\\site-packages (from typer-slim==0.12.0->typer-slim[standard]==0.12.0->typer<1.0.0,>=0.3.0->spacy<3.8.0,>=3.7.2->en-core-web-sm==3.7.1) (8.1.7)\n",
      "Requirement already satisfied: shellingham>=1.3.0 in c:\\users\\user\\appdata\\roaming\\python\\python311\\site-packages (from typer-slim[standard]==0.12.0->typer<1.0.0,>=0.3.0->spacy<3.8.0,>=3.7.2->en-core-web-sm==3.7.1) (1.5.4)\n",
      "Requirement already satisfied: rich>=10.11.0 in c:\\users\\user\\appdata\\roaming\\python\\python311\\site-packages (from typer-slim[standard]==0.12.0->typer<1.0.0,>=0.3.0->spacy<3.8.0,>=3.7.2->en-core-web-sm==3.7.1) (13.7.1)\n",
      "Requirement already satisfied: cloudpathlib<1.0.0,>=0.7.0 in e:\\anaconda\\envs\\works\\lib\\site-packages (from weasel<0.5.0,>=0.1.0->spacy<3.8.0,>=3.7.2->en-core-web-sm==3.7.1) (0.19.0)\n",
      "Requirement already satisfied: smart-open<8.0.0,>=5.2.1 in e:\\anaconda\\envs\\works\\lib\\site-packages (from weasel<0.5.0,>=0.1.0->spacy<3.8.0,>=3.7.2->en-core-web-sm==3.7.1) (7.0.4)\n",
      "Requirement already satisfied: MarkupSafe>=2.0 in e:\\anaconda\\envs\\works\\lib\\site-packages (from jinja2->spacy<3.8.0,>=3.7.2->en-core-web-sm==3.7.1) (2.1.5)\n",
      "Requirement already satisfied: marisa-trie>=0.7.7 in e:\\anaconda\\envs\\works\\lib\\site-packages (from language-data>=1.2->langcodes<4.0.0,>=3.2.0->spacy<3.8.0,>=3.7.2->en-core-web-sm==3.7.1) (1.2.0)\n",
      "Requirement already satisfied: wrapt in e:\\anaconda\\envs\\works\\lib\\site-packages (from smart-open<8.0.0,>=5.2.1->weasel<0.5.0,>=0.1.0->spacy<3.8.0,>=3.7.2->en-core-web-sm==3.7.1) (1.14.1)\n",
      "Requirement already satisfied: markdown-it-py>=2.2.0 in c:\\users\\user\\appdata\\roaming\\python\\python311\\site-packages (from rich>=10.11.0->typer-slim[standard]==0.12.0->typer<1.0.0,>=0.3.0->spacy<3.8.0,>=3.7.2->en-core-web-sm==3.7.1) (3.0.0)\n",
      "Requirement already satisfied: pygments<3.0.0,>=2.13.0 in e:\\anaconda\\envs\\works\\lib\\site-packages (from rich>=10.11.0->typer-slim[standard]==0.12.0->typer<1.0.0,>=0.3.0->spacy<3.8.0,>=3.7.2->en-core-web-sm==3.7.1) (2.17.2)\n",
      "Requirement already satisfied: mdurl~=0.1 in c:\\users\\user\\appdata\\roaming\\python\\python311\\site-packages (from markdown-it-py>=2.2.0->rich>=10.11.0->typer-slim[standard]==0.12.0->typer<1.0.0,>=0.3.0->spacy<3.8.0,>=3.7.2->en-core-web-sm==3.7.1) (0.1.2)\n",
      "\u001b[38;5;2m[+] Download and installation successful\u001b[0m\n",
      "You can now load the package via spacy.load('en_core_web_sm')\n"
     ]
    }
   ],
   "source": [
    "!python -m spacy download en_core_web_sm"
   ]
  },
  {
   "cell_type": "code",
   "execution_count": 37,
   "id": "cdb45ef2-60ed-4e14-9480-03de715f983b",
   "metadata": {
    "editable": true,
    "slideshow": {
     "slide_type": ""
    },
    "tags": []
   },
   "outputs": [],
   "source": [
    "## Now we will make our own custom tokenizer"
   ]
  },
  {
   "cell_type": "code",
   "execution_count": 38,
   "id": "f353b316-b977-46e0-b161-906b6f808ce1",
   "metadata": {},
   "outputs": [],
   "source": [
    "# Load english language model\n",
    "nlp = spacy.load(\"en_core_web_sm\")\n",
    "# Define custom tokenizer (remove stop words and punctuation and apply lemmatization)\n",
    "def custom_tokenizer(doc):\n",
    "    return [t.lemma_ for t in nlp(doc) if (not t.is_punct) and (not t.is_stop)]"
   ]
  },
  {
   "cell_type": "code",
   "execution_count": 39,
   "id": "9b04ae1a-59ac-4dbb-b182-d6455b6f75d9",
   "metadata": {},
   "outputs": [
    {
     "data": {
      "text/plain": [
       "array([[0, 1, 0, 0, 0, 1, 0, 0, 0, 0, 0, 0, 1, 1, 0, 1],\n",
       "       [0, 0, 0, 1, 0, 0, 1, 0, 0, 0, 1, 0, 0, 1, 1, 0],\n",
       "       [0, 0, 1, 0, 1, 0, 0, 1, 0, 0, 0, 0, 0, 0, 0, 1],\n",
       "       [1, 0, 0, 0, 0, 0, 0, 0, 1, 1, 0, 1, 0, 0, 0, 0]], dtype=int64)"
      ]
     },
     "execution_count": 39,
     "metadata": {},
     "output_type": "execute_result"
    }
   ],
   "source": [
    "# Dense matrix representation\n",
    "bow.toarray()"
   ]
  },
  {
   "cell_type": "code",
   "execution_count": 40,
   "id": "5b742413-9345-4b8c-a8b8-0b1179a6621f",
   "metadata": {},
   "outputs": [
    {
     "name": "stdout",
     "output_type": "stream",
     "text": [
      "  (0, 1)\t1\n",
      "  (1, 3)\t1\n",
      "  (2, 2)\t1\n",
      "  (3, 0)\t1\n"
     ]
    }
   ],
   "source": [
    "# Sparse slice\n",
    "print(bow[:,0:4])\n"
   ]
  },
  {
   "cell_type": "code",
   "execution_count": 41,
   "id": "d6283d4f-ef6d-42c0-befa-9549f38b1193",
   "metadata": {},
   "outputs": [
    {
     "name": "stdout",
     "output_type": "stream",
     "text": [
      "The Omicron coronavirus variant spreads.\n",
      "AI predicts protein structures.\n",
      "Similarity score: 0.000\n"
     ]
    }
   ],
   "source": [
    "# Cosine similarity using numpy\n",
    "def cosine_sim(a,b):\n",
    "    return np.dot(a,b)/(np.linalg.norm(a)*np.linalg.norm(b))\n",
    "# Similarity between two documents\n",
    "print(corpus[1])\n",
    "print(corpus[3])\n",
    "print(f'Similarity score: {cosine_sim(bow[1].toarray().squeeze(),bow[3].toarray().squeeze()):.3f}')"
   ]
  },
  {
   "cell_type": "code",
   "execution_count": 42,
   "id": "74df1d3d-f3de-4b28-9836-efa2fc1dd1f9",
   "metadata": {},
   "outputs": [
    {
     "name": "stdout",
     "output_type": "stream",
     "text": [
      "Inflation surges around the world.\n",
      "World population exceeds 8 billion.\n",
      "Similarity score: 0.224\n"
     ]
    }
   ],
   "source": [
    "# Similarity between two documents\n",
    "print(corpus[0])\n",
    "print(corpus[2])\n",
    "print(f'Similarity score: {cosine_sim(bow[0].toarray().squeeze(),bow[2].toarray().squeeze()):.3f}')"
   ]
  },
  {
   "cell_type": "code",
   "execution_count": null,
   "id": "9b1b8864-c4a5-4136-9027-b787d252ade7",
   "metadata": {},
   "outputs": [],
   "source": []
  },
  {
   "cell_type": "code",
   "execution_count": null,
   "id": "545dc2d5-3278-4b73-8bb3-52b9ebcec67d",
   "metadata": {},
   "outputs": [],
   "source": []
  },
  {
   "cell_type": "code",
   "execution_count": null,
   "id": "dbee4513-74f9-44d6-a9ae-f544955bd4b7",
   "metadata": {},
   "outputs": [],
   "source": []
  },
  {
   "cell_type": "code",
   "execution_count": null,
   "id": "d39e619f-561b-4600-bb01-c626d51d207d",
   "metadata": {},
   "outputs": [],
   "source": []
  },
  {
   "cell_type": "code",
   "execution_count": null,
   "id": "b28b8e2e-50f8-4050-9cde-d93414b96754",
   "metadata": {},
   "outputs": [],
   "source": []
  },
  {
   "cell_type": "code",
   "execution_count": null,
   "id": "7f012b79-3909-4472-80ac-80f9c1dc39a9",
   "metadata": {},
   "outputs": [],
   "source": []
  },
  {
   "cell_type": "code",
   "execution_count": null,
   "id": "9d0b68c0-87c7-4a99-82cd-d5705f0c533e",
   "metadata": {},
   "outputs": [],
   "source": []
  },
  {
   "cell_type": "code",
   "execution_count": null,
   "id": "98c39d22-17ac-4ee1-8fc2-0545ff63e207",
   "metadata": {},
   "outputs": [],
   "source": []
  },
  {
   "cell_type": "code",
   "execution_count": null,
   "id": "fb3ff364-8d2b-4911-a200-ed6f1aa69001",
   "metadata": {},
   "outputs": [],
   "source": []
  },
  {
   "cell_type": "code",
   "execution_count": null,
   "id": "f0eb0557-fb29-43bc-bfda-3f6a5ca2d1ff",
   "metadata": {},
   "outputs": [],
   "source": []
  },
  {
   "cell_type": "code",
   "execution_count": null,
   "id": "aad320f1-dc18-46be-ac3b-565a7d553cbf",
   "metadata": {},
   "outputs": [],
   "source": []
  },
  {
   "cell_type": "code",
   "execution_count": null,
   "id": "58b27926-072c-4a93-a0fa-49a00f30439b",
   "metadata": {},
   "outputs": [],
   "source": []
  },
  {
   "cell_type": "code",
   "execution_count": null,
   "id": "65a342ff-efba-4f4e-8663-cbfa249cf8bf",
   "metadata": {},
   "outputs": [],
   "source": []
  },
  {
   "cell_type": "code",
   "execution_count": null,
   "id": "d1db9c52-b1e7-4d50-96d7-80acd658e8d7",
   "metadata": {},
   "outputs": [],
   "source": []
  },
  {
   "cell_type": "code",
   "execution_count": null,
   "id": "e61a8290-cf66-412d-bad6-b6b8162310c5",
   "metadata": {},
   "outputs": [],
   "source": []
  },
  {
   "cell_type": "code",
   "execution_count": null,
   "id": "8fe41e28-4f98-436d-acf5-5424062e6644",
   "metadata": {},
   "outputs": [],
   "source": []
  }
 ],
 "metadata": {
  "kernelspec": {
   "display_name": "Python 3 (ipykernel)",
   "language": "python",
   "name": "python3"
  },
  "language_info": {
   "codemirror_mode": {
    "name": "ipython",
    "version": 3
   },
   "file_extension": ".py",
   "mimetype": "text/x-python",
   "name": "python",
   "nbconvert_exporter": "python",
   "pygments_lexer": "ipython3",
   "version": "3.11.7"
  }
 },
 "nbformat": 4,
 "nbformat_minor": 5
}
