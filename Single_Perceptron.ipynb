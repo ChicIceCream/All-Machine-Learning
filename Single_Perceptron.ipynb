{
  "nbformat": 4,
  "nbformat_minor": 0,
  "metadata": {
    "colab": {
      "provenance": [],
      "gpuType": "T4",
      "authorship_tag": "ABX9TyO+TBTDTWFVaVcWBjO2EcZX",
      "include_colab_link": true
    },
    "kernelspec": {
      "name": "python3",
      "display_name": "Python 3"
    },
    "language_info": {
      "name": "python"
    },
    "accelerator": "GPU"
  },
  "cells": [
    {
      "cell_type": "markdown",
      "metadata": {
        "id": "view-in-github",
        "colab_type": "text"
      },
      "source": [
        "<a href=\"https://colab.research.google.com/github/ChicIceCream/All-Machine-Learning/blob/main/Single_Perceptron.ipynb\" target=\"_parent\"><img src=\"https://colab.research.google.com/assets/colab-badge.svg\" alt=\"Open In Colab\"/></a>"
      ]
    },
    {
      "cell_type": "markdown",
      "source": [
        "An approach to create a single perceptron using Python."
      ],
      "metadata": {
        "id": "3RdEDvisgWY3"
      }
    },
    {
      "cell_type": "code",
      "source": [
        "inputs = [1, 2, 3, 4, 5]\n",
        "targets = [3, 6, 9, 12, 15]"
      ],
      "metadata": {
        "id": "QlNhcuECgX-P"
      },
      "execution_count": 1,
      "outputs": []
    },
    {
      "cell_type": "markdown",
      "source": [
        "# This is similar to the Linear Regression algorithm, but with a single perceptron\n",
        "\n",
        "We know the function that we need to write the weights is : y = mx + c\n",
        "Right now, c = 0 and the equation is : y = 3x"
      ],
      "metadata": {
        "id": "BVFlQUjugmxI"
      }
    },
    {
      "cell_type": "code",
      "source": [
        "w = 0.1 # Random weight\n"
      ],
      "metadata": {
        "id": "nzBnHKA3g7Yc"
      },
      "execution_count": 2,
      "outputs": []
    },
    {
      "cell_type": "code",
      "source": [
        "# Making a simple prediction function\n",
        "def predict(i):\n",
        "    return w * i\n",
        "\n",
        "prediction = [predict(i) for i in inputs]"
      ],
      "metadata": {
        "id": "zgg2IO1cg8Wy"
      },
      "execution_count": 3,
      "outputs": []
    },
    {
      "cell_type": "code",
      "source": [
        "print(f'Prediction : {prediction}') # This output is really bad\n"
      ],
      "metadata": {
        "colab": {
          "base_uri": "https://localhost:8080/"
        },
        "id": "0ZEx5nbchKMG",
        "outputId": "aa2cbf63-6468-4a09-f1d0-9ddbc44e3b1c"
      },
      "execution_count": 5,
      "outputs": [
        {
          "output_type": "stream",
          "name": "stdout",
          "text": [
            "Prediction : [0.1, 0.2, 0.30000000000000004, 0.4, 0.5]\n"
          ]
        }
      ]
    },
    {
      "cell_type": "markdown",
      "source": [
        "## To fix this, we will make a **cost** function. It is also known as a **Error** or **Loss** function\n",
        "Error = Loss = Cost => Same thing\n",
        "\n",
        "A cost function is needed to know how good or bad our model is performing.\n",
        "A **low cost** means the target value and predicted value is similar, while a **high  cost** informs us that the target and prediction values are far apart and the model needs a change."
      ],
      "metadata": {
        "id": "cseu-qCwhXT6"
      }
    },
    {
      "cell_type": "code",
      "source": [
        "cost_function = [t - p for p, t in zip(prediction, targets)] # t is target point and p is prediction point\n",
        "print(cost_function)"
      ],
      "metadata": {
        "colab": {
          "base_uri": "https://localhost:8080/"
        },
        "id": "4eDrWX5ZhMt2",
        "outputId": "fe58d4d8-dd96-47a6-8e00-2be1f6d4bcb4"
      },
      "execution_count": 10,
      "outputs": [
        {
          "output_type": "stream",
          "name": "stdout",
          "text": [
            "[2.9, 5.8, 8.7, 11.6, 14.5]\n"
          ]
        }
      ]
    },
    {
      "cell_type": "markdown",
      "source": [
        "Now, what we want to do is to get an average of the cost function\n"
      ],
      "metadata": {
        "id": "BIzHLRk6j43N"
      }
    },
    {
      "cell_type": "code",
      "source": [
        "cost_function_average = sum(cost_function) / len(cost_function)\n",
        "print(cost_function_average)"
      ],
      "metadata": {
        "colab": {
          "base_uri": "https://localhost:8080/"
        },
        "id": "asfCtgVrj3vB",
        "outputId": "1ba12fbe-fd7e-4d6b-a840-85aa02cb7ebd"
      },
      "execution_count": 11,
      "outputs": [
        {
          "output_type": "stream",
          "name": "stdout",
          "text": [
            "8.7\n"
          ]
        }
      ]
    },
    {
      "cell_type": "markdown",
      "source": [
        "As you can see, this cost function average is very high.\n",
        "\n",
        "## What we want to achieve is to **reduce** it.\n",
        "\n",
        "Since the only parameter that we control is the weight, we can add another variable called learning rate."
      ],
      "metadata": {
        "id": "OKZck2OqkZb7"
      }
    },
    {
      "cell_type": "code",
      "source": [
        "learning_rate = 0.1\n",
        "w += learning_rate * cost_function_average"
      ],
      "metadata": {
        "id": "CoyPiN3TkYSV"
      },
      "execution_count": 12,
      "outputs": []
    },
    {
      "cell_type": "markdown",
      "source": [
        "#Now, because we are doing this iteratively, we need to add a loop, and this will run for a definite time called **epochs**"
      ],
      "metadata": {
        "id": "Y61PUJaNn-Et"
      }
    },
    {
      "cell_type": "code",
      "source": [
        "epochs = 5"
      ],
      "metadata": {
        "id": "7dAbLVXsn3bi"
      },
      "execution_count": 55,
      "outputs": []
    },
    {
      "cell_type": "code",
      "source": [
        "\n",
        "w = 0.1\n",
        "\n",
        "for epoch in range(epochs):\n",
        "    prediction = [w * i for i in inputs] # To get the prediction\n",
        "\n",
        "    cost_function = [t - p for p, t in zip(prediction, targets)]\n",
        "    cost_function_average = sum(cost_function) / len(cost_function)\n",
        "\n",
        "    if (epoch + 1) % 10 == 0:\n",
        "        print(f'Epoch {epoch + 1} : {cost_function_average:.2f}, Weight : {w:.2f}')\n",
        "\n",
        "\n",
        "    w += learning_rate * cost_function_average # Update the weights"
      ],
      "metadata": {
        "id": "aMSWOTqMoJt8"
      },
      "execution_count": 56,
      "outputs": []
    },
    {
      "cell_type": "markdown",
      "source": [
        "# You can see that the cost function average has reduced by a lot, and this is in just 5 epochs.\n",
        "\n",
        "Now we will test this perceptron on some test data, and increase the epochs to reduce the cost function\n"
      ],
      "metadata": {
        "id": "4RA47YNpop_j"
      }
    },
    {
      "cell_type": "code",
      "source": [
        "test_input = [9, 12]\n",
        "test_target = [27, 36]\n",
        "\n",
        "w = 0.1\n",
        "\n",
        "epochs = 100\n",
        "\n",
        "for epoch in range(epochs):\n",
        "    prediction = [w * i for i in inputs] # To get the prediction\n",
        "\n",
        "    cost_function = [t - p for p, t in zip(prediction, targets)]\n",
        "    cost_function_average = sum(cost_function) / len(cost_function)\n",
        "\n",
        "    if (epoch + 1) % 10 == 0:\n",
        "        print(f'Epoch {epoch + 1} : {cost_function_average:.2f}, Weight : {w:.2f}')\n",
        "\n",
        "\n",
        "    w += learning_rate * cost_function_average # Update the weights"
      ],
      "metadata": {
        "colab": {
          "base_uri": "https://localhost:8080/"
        },
        "id": "6EN6DzOAoc2A",
        "outputId": "ca6541c5-32f4-4b3f-94fe-88e57ea14621"
      },
      "execution_count": 58,
      "outputs": [
        {
          "output_type": "stream",
          "name": "stdout",
          "text": [
            "Epoch 10 : 0.35, Weight : 2.88\n",
            "Epoch 20 : 0.01, Weight : 3.00\n",
            "Epoch 30 : 0.00, Weight : 3.00\n",
            "Epoch 40 : 0.00, Weight : 3.00\n",
            "Epoch 50 : 0.00, Weight : 3.00\n",
            "Epoch 60 : 0.00, Weight : 3.00\n",
            "Epoch 70 : 0.00, Weight : 3.00\n",
            "Epoch 80 : 0.00, Weight : 3.00\n",
            "Epoch 90 : 0.00, Weight : 3.00\n",
            "Epoch 100 : 0.00, Weight : 3.00\n"
          ]
        }
      ]
    },
    {
      "cell_type": "code",
      "source": [
        "prediction = [predict(i) for i in test_input]\n",
        "\n",
        "for i, t, p in zip(test_input, test_target, prediction):\n",
        "    print(f'Input : {i}, Target : {t}, Prediction : {p}')"
      ],
      "metadata": {
        "colab": {
          "base_uri": "https://localhost:8080/"
        },
        "id": "x8KUvdsPxcTq",
        "outputId": "bc8ae01b-a2db-42a6-e329-5b0a9cc64b36"
      },
      "execution_count": 59,
      "outputs": [
        {
          "output_type": "stream",
          "name": "stdout",
          "text": [
            "Input : 9, Target : 27, Prediction : 26.999999999999993\n",
            "Input : 12, Target : 36, Prediction : 35.999999999999986\n"
          ]
        }
      ]
    },
    {
      "cell_type": "code",
      "source": [
        ""
      ],
      "metadata": {
        "id": "zhdhGDPtxvi9"
      },
      "execution_count": null,
      "outputs": []
    }
  ]
}