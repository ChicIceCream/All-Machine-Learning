{
 "cells": [
  {
   "cell_type": "code",
   "execution_count": 2,
   "metadata": {},
   "outputs": [
    {
     "data": {
      "text/plain": [
       "2"
      ]
     },
     "execution_count": 2,
     "metadata": {},
     "output_type": "execute_result"
    }
   ],
   "source": [
    "1+1"
   ]
  },
  {
   "cell_type": "code",
   "execution_count": 3,
   "metadata": {},
   "outputs": [
    {
     "name": "stdout",
     "output_type": "stream",
     "text": [
      "^C\n"
     ]
    },
    {
     "name": "stdout",
     "output_type": "stream",
     "text": [
      "Collecting pandas\n",
      "  Downloading pandas-2.2.2-cp310-cp310-win_amd64.whl.metadata (19 kB)\n",
      "Requirement already satisfied: numpy>=1.22.4 in e:\\anaconda\\krish\\lib\\site-packages (from pandas) (1.26.4)\n",
      "Requirement already satisfied: python-dateutil>=2.8.2 in e:\\anaconda\\krish\\lib\\site-packages (from pandas) (2.9.0.post0)\n",
      "Collecting pytz>=2020.1 (from pandas)\n",
      "  Using cached pytz-2024.1-py2.py3-none-any.whl.metadata (22 kB)\n",
      "Collecting tzdata>=2022.7 (from pandas)\n",
      "  Using cached tzdata-2024.1-py2.py3-none-any.whl.metadata (1.4 kB)\n",
      "Requirement already satisfied: six>=1.5 in e:\\anaconda\\krish\\lib\\site-packages (from python-dateutil>=2.8.2->pandas) (1.16.0)\n",
      "Downloading pandas-2.2.2-cp310-cp310-win_amd64.whl (11.6 MB)\n",
      "   ---------------------------------------- 0.0/11.6 MB ? eta -:--:--\n",
      "   ---------------------------------------- 0.1/11.6 MB 3.3 MB/s eta 0:00:04\n",
      "   - -------------------------------------- 0.3/11.6 MB 4.1 MB/s eta 0:00:03\n",
      "   -- ------------------------------------- 0.6/11.6 MB 4.8 MB/s eta 0:00:03\n",
      "   -- ------------------------------------- 0.6/11.6 MB 4.5 MB/s eta 0:00:03\n",
      "   ---- ----------------------------------- 1.3/11.6 MB 6.3 MB/s eta 0:00:02\n",
      "   ----- ---------------------------------- 1.6/11.6 MB 6.4 MB/s eta 0:00:02\n",
      "   ------ --------------------------------- 2.0/11.6 MB 6.6 MB/s eta 0:00:02\n",
      "   ------- -------------------------------- 2.3/11.6 MB 6.7 MB/s eta 0:00:02\n",
      "   -------- ------------------------------- 2.4/11.6 MB 7.0 MB/s eta 0:00:02\n",
      "   ---------- ----------------------------- 3.1/11.6 MB 7.4 MB/s eta 0:00:02\n",
      "   ------------ --------------------------- 3.6/11.6 MB 7.6 MB/s eta 0:00:02\n",
      "   ------------- -------------------------- 3.9/11.6 MB 7.8 MB/s eta 0:00:01\n",
      "   ----------------- ---------------------- 5.1/11.6 MB 8.2 MB/s eta 0:00:01\n",
      "   ----------------- ---------------------- 5.1/11.6 MB 8.2 MB/s eta 0:00:01\n",
      "   ------------------- -------------------- 5.8/11.6 MB 8.2 MB/s eta 0:00:01\n",
      "   --------------------- ------------------ 6.1/11.6 MB 8.3 MB/s eta 0:00:01\n",
      "   ---------------------- ----------------- 6.5/11.6 MB 8.2 MB/s eta 0:00:01\n",
      "   ------------------------- -------------- 7.4/11.6 MB 8.7 MB/s eta 0:00:01\n",
      "   ------------------------- -------------- 7.5/11.6 MB 8.7 MB/s eta 0:00:01\n",
      "   -------------------------- ------------- 7.7/11.6 MB 8.3 MB/s eta 0:00:01\n",
      "   ---------------------------- ----------- 8.2/11.6 MB 8.5 MB/s eta 0:00:01\n",
      "   ---------------------------- ----------- 8.2/11.6 MB 8.5 MB/s eta 0:00:01\n",
      "   ---------------------------- ----------- 8.2/11.6 MB 8.5 MB/s eta 0:00:01\n",
      "   -------------------------------- ------- 9.3/11.6 MB 8.5 MB/s eta 0:00:01\n",
      "   -------------------------------- ------- 9.5/11.6 MB 8.4 MB/s eta 0:00:01\n",
      "   --------------------------------- ------ 9.6/11.6 MB 8.1 MB/s eta 0:00:01\n",
      "   --------------------------------- ------ 9.6/11.6 MB 8.1 MB/s eta 0:00:01\n",
      "   ------------------------------------- -- 10.8/11.6 MB 9.0 MB/s eta 0:00:01\n",
      "   ------------------------------------- -- 11.0/11.6 MB 9.2 MB/s eta 0:00:01\n",
      "   ------------------------------------- -- 11.0/11.6 MB 9.2 MB/s eta 0:00:01\n",
      "   -------------------------------------- - 11.1/11.6 MB 8.7 MB/s eta 0:00:01\n",
      "   ---------------------------------------  11.6/11.6 MB 8.4 MB/s eta 0:00:01\n",
      "   ---------------------------------------- 11.6/11.6 MB 8.1 MB/s eta 0:00:00\n",
      "Using cached pytz-2024.1-py2.py3-none-any.whl (505 kB)\n",
      "Using cached tzdata-2024.1-py2.py3-none-any.whl (345 kB)\n",
      "Installing collected packages: pytz, tzdata, pandas\n",
      "Successfully installed pandas-2.2.2 pytz-2024.1 tzdata-2024.1\n"
     ]
    }
   ],
   "source": [
    "!pip install pandas"
   ]
  },
  {
   "cell_type": "code",
   "execution_count": null,
   "metadata": {},
   "outputs": [],
   "source": []
  }
 ],
 "metadata": {
  "kernelspec": {
   "display_name": "Python 3",
   "language": "python",
   "name": "python3"
  },
  "language_info": {
   "codemirror_mode": {
    "name": "ipython",
    "version": 3
   },
   "file_extension": ".py",
   "mimetype": "text/x-python",
   "name": "python",
   "nbconvert_exporter": "python",
   "pygments_lexer": "ipython3",
   "version": "3.10.0"
  }
 },
 "nbformat": 4,
 "nbformat_minor": 2
}
